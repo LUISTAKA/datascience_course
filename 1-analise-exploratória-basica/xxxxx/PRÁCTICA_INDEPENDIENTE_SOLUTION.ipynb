{
 "cells": [
  {
   "cell_type": "markdown",
   "metadata": {},
   "source": [
    "# Prática Independente de Python Avançado- SOLUTION"
   ]
  },
  {
   "cell_type": "markdown",
   "metadata": {},
   "source": [
    "Define-se uma lista de dicionários com que a prática será desenvolvida."
   ]
  },
  {
   "cell_type": "code",
   "execution_count": 5,
   "metadata": {
    "collapsed": true
   },
   "outputs": [],
   "source": [
    "# Dicionário de filmes\n",
    "\n",
    "movies = [\n",
    "{\n",
    "\"name\": \"Usual Suspects\", \n",
    "\"imdb\": 7.0,\n",
    "\"category\": \"Thriller\"\n",
    "},\n",
    "{\n",
    "\"name\": \"Hitman\",\n",
    "\"imdb\": 6.3,\n",
    "\"category\": \"Action\"\n",
    "},\n",
    "{\n",
    "\"name\": \"Dark Knight\",\n",
    "\"imdb\": 9.0,\n",
    "\"category\": \"Adventure\"\n",
    "},\n",
    "{\n",
    "\"name\": \"The Help\",\n",
    "\"imdb\": 8.0,\n",
    "\"category\": \"Drama\"\n",
    "},\n",
    "{\n",
    "\"name\": \"The Choice\",\n",
    "\"imdb\": 6.2,\n",
    "\"category\": \"Romance\"\n",
    "},\n",
    "{\n",
    "\"name\": \"Colonia\",\n",
    "\"imdb\": 7.4,\n",
    "\"category\": \"Romance\"\n",
    "},\n",
    "{\n",
    "\"name\": \"Love\",\n",
    "\"imdb\": 6.0,\n",
    "\"category\": \"Romance\"\n",
    "},\n",
    "{\n",
    "\"name\": \"Bride Wars\",\n",
    "\"imdb\": 5.4,\n",
    "\"category\": \"Romance\"\n",
    "},\n",
    "{\n",
    "\"name\": \"AlphaJet\",\n",
    "\"imdb\": 3.2,\n",
    "\"category\": \"War\"\n",
    "},\n",
    "{\n",
    "\"name\": \"Ringing Crime\",\n",
    "\"imdb\": 4.0,\n",
    "\"category\": \"Crime\"\n",
    "},\n",
    "{\n",
    "\"name\": \"Joking muck\",\n",
    "\"imdb\": 7.2,\n",
    "\"category\": \"Comedy\"\n",
    "},\n",
    "{\n",
    "\"name\": \"What is the name\",\n",
    "\"imdb\": 9.2,\n",
    "\"category\": \"Suspense\"\n",
    "},\n",
    "{\n",
    "\"name\": \"Detective\",\n",
    "\"imdb\": 7.0,\n",
    "\"category\": \"Suspense\"\n",
    "},\n",
    "{\n",
    "\"name\": \"Exam\",\n",
    "\"imdb\": 4.2,\n",
    "\"category\": \"Thriller\"\n",
    "},\n",
    "{\n",
    "\"name\": \"We Two\",\n",
    "\"imdb\": 7.2,\n",
    "\"category\": \"Romance\"\n",
    "}\n",
    "]"
   ]
  },
  {
   "cell_type": "markdown",
   "metadata": {},
   "source": [
    "### Exercício 1"
   ]
  },
  {
   "cell_type": "code",
   "execution_count": 1,
   "metadata": {
    "collapsed": true
   },
   "outputs": [],
   "source": [
    "# Escrever uma função que pega um filme (movie) e retorna True se sua pontuação IMDB for maior do que 5.5\n",
    "# e False, caso contrário\n",
    "def filmeMédiaMaior55(movie):\n",
    "    return movie['imdb'] > 5.5"
   ]
  },
  {
   "cell_type": "code",
   "execution_count": 2,
   "metadata": {},
   "outputs": [
    {
     "data": {
      "text/plain": [
       "True"
      ]
     },
     "execution_count": 2,
     "metadata": {},
     "output_type": "execute_result"
    }
   ],
   "source": [
    "# Definimos um filme como exemplo\n",
    "m = {\n",
    "\"name\": \"We Two\",\n",
    "\"imdb\": 7.2,\n",
    "\"category\": \"Romance\"\n",
    "}\n",
    "\n",
    "# Testamos a nossa função\n",
    "filmeMédiaMaior55(m)"
   ]
  },
  {
   "cell_type": "markdown",
   "metadata": {},
   "source": [
    "### Exercício 2"
   ]
  },
  {
   "cell_type": "code",
   "execution_count": 6,
   "metadata": {
    "collapsed": true
   },
   "outputs": [],
   "source": [
    "# Escrever uma função que retorne a sublista dos filmes com pontuação IMDB maior do que 5.5 \n",
    "# (Hint: Pode ser útil usar a função definida no ponto anterior).\n",
    "def subListaFilmesMédiaMaior55(filmes):\n",
    "    ret = []\n",
    "    for f in filmes:\n",
    "        if filmeMédiaMaior55(f):\n",
    "ret.append(f)",
    "    return ret"
   ]
  },
  {
   "cell_type": "code",
   "execution_count": 18,
   "metadata": {
    "collapsed": true
   },
   "outputs": [],
   "source": [
    "def subListaFilmesMédiaMaior55(filmes):\n",
    "    return [f for f in filmes if filmeMédiaMaior55(f)]"
   ]
  },
  {
   "cell_type": "code",
   "execution_count": 19,
   "metadata": {},
   "outputs": [
    {
     "data": {
      "text/plain": [
       "[{'category': 'Thriller', 'imdb': 7.0, 'name': 'Usual Suspects'},\n",
       " {'category': 'Action', 'imdb': 6.3, 'name': 'Hitman'},\n",
       " {'category': 'Adventure', 'imdb': 9.0, 'name': 'Dark Knight'},\n",
       " {'category': 'Drama', 'imdb': 8.0, 'name': 'The Help'},\n",
       " {'category': 'Romance', 'imdb': 6.2, 'name': 'The Choice'},\n",
       " {'category': 'Romance', 'imdb': 7.4, 'name': 'Colonia'},\n",
       " {'category': 'Romance', 'imdb': 6.0, 'name': 'Love'},\n",
       " {'category': 'Comedy', 'imdb': 7.2, 'name': 'Joking muck'},\n",
       " {'category': 'Suspense', 'imdb': 9.2, 'name': 'What is the name'},\n",
       " {'category': 'Suspense', 'imdb': 7.0, 'name': 'Detective'},\n",
       " {'category': 'Romance', 'imdb': 7.2, 'name': 'We Two'}]"
      ]
     },
     "execution_count": 19,
     "metadata": {},
     "output_type": "execute_result"
    }
   ],
   "source": [
    "subListaFilmesMédiaMaior55(movies)"
   ]
  },
  {
   "cell_type": "code",
   "execution_count": 7,
   "metadata": {},
   "outputs": [
    {
     "data": {
      "text/plain": [
       "[{'category': 'Thriller', 'imdb': 7.0, 'name': 'Usual Suspects'},\n",
       " {'category': 'Action', 'imdb': 6.3, 'name': 'Hitman'},\n",
       " {'category': 'Adventure', 'imdb': 9.0, 'name': 'Dark Knight'},\n",
       " {'category': 'Drama', 'imdb': 8.0, 'name': 'The Help'},\n",
       " {'category': 'Romance', 'imdb': 6.2, 'name': 'The Choice'},\n",
       " {'category': 'Romance', 'imdb': 7.4, 'name': 'Colonia'},\n",
       " {'category': 'Romance', 'imdb': 6.0, 'name': 'Love'},\n",
       " {'category': 'Comedy', 'imdb': 7.2, 'name': 'Joking muck'},\n",
       " {'category': 'Suspense', 'imdb': 9.2, 'name': 'What is the name'},\n",
       " {'category': 'Suspense', 'imdb': 7.0, 'name': 'Detective'},\n",
       " {'category': 'Romance', 'imdb': 7.2, 'name': 'We Two'}]"
      ]
     },
     "execution_count": 7,
     "metadata": {},
     "output_type": "execute_result"
    }
   ],
   "source": [
    "subListaFilmesMédiaMaior55(movies)"
   ]
  },
  {
   "cell_type": "markdown",
   "metadata": {},
   "source": [
    "### Exercício 3"
   ]
  },
  {
   "cell_type": "code",
   "execution_count": 10,
   "metadata": {
    "collapsed": true
   },
   "outputs": [],
   "source": [
    "# Escrever uma função que pega o nome de uma categoria e \n",
    "# retorna somente os filmes que pertencem a tal categoria.\n",
    "def getFilmesDeCategoria(categoria):\n",
    "    ret = []\n",
    "    for m in movies:\n",
    "        if m['category'] == categoria:\n",
    "ret.append(m)",
    "    return ret"
   ]
  },
  {
   "cell_type": "code",
   "execution_count": 21,
   "metadata": {
    "collapsed": true
   },
   "outputs": [],
   "source": [
    "def getFilmesDeCategoria(categoria):\n",
    "    return [f for f in movies if f['category'] == categoria]"
   ]
  },
  {
   "cell_type": "code",
   "execution_count": 22,
   "metadata": {},
   "outputs": [
    {
     "data": {
      "text/plain": [
       "[{'category': 'Romance', 'imdb': 6.2, 'name': 'The Choice'},\n",
       " {'category': 'Romance', 'imdb': 7.4, 'name': 'Colonia'},\n",
       " {'category': 'Romance', 'imdb': 6.0, 'name': 'Love'},\n",
       " {'category': 'Romance', 'imdb': 5.4, 'name': 'Bride Wars'},\n",
       " {'category': 'Romance', 'imdb': 7.2, 'name': 'We Two'}]"
      ]
     },
     "execution_count": 22,
     "metadata": {},
     "output_type": "execute_result"
    }
   ],
   "source": [
    "getFilmesDeCategoria('Romance')"
   ]
  },
  {
   "cell_type": "code",
   "execution_count": 11,
   "metadata": {},
   "outputs": [
    {
     "data": {
      "text/plain": [
       "[{'category': 'Romance', 'imdb': 6.2, 'name': 'The Choice'},\n",
       " {'category': 'Romance', 'imdb': 7.4, 'name': 'Colonia'},\n",
       " {'category': 'Romance', 'imdb': 6.0, 'name': 'Love'},\n",
       " {'category': 'Romance', 'imdb': 5.4, 'name': 'Bride Wars'},\n",
       " {'category': 'Romance', 'imdb': 7.2, 'name': 'We Two'}]"
      ]
     },
     "execution_count": 11,
     "metadata": {},
     "output_type": "execute_result"
    }
   ],
   "source": [
    "getFilmesDeCategoria('Romance')"
   ]
  },
  {
   "cell_type": "markdown",
   "metadata": {},
   "source": [
    "### Exercício 4"
   ]
  },
  {
   "cell_type": "code",
   "execution_count": 12,
   "metadata": {
    "collapsed": true
   },
   "outputs": [],
   "source": [
    "# Escrever uma função que receba uma lista de filmes e calcule sua média de pontuação IMDB\n",
    "def médiaDeLista(lista):\n",
    "    soma = 0\n",
    "    for f in lista:\n",
    "        soma = soma + f['imdb']\n",
    "    \n",
    "    return soma / len(lista)"
   ]
  },
  {
   "cell_type": "code",
   "execution_count": 13,
   "metadata": {},
   "outputs": [
    {
     "data": {
      "text/plain": [
       "6.486666666666667"
      ]
     },
     "execution_count": 13,
     "metadata": {},
     "output_type": "execute_result"
    }
   ],
   "source": [
    "médiaDeLista(movies)"
   ]
  },
  {
   "cell_type": "markdown",
   "metadata": {},
   "source": [
    "### Exercício 5"
   ]
  },
  {
   "cell_type": "code",
   "execution_count": 15,
   "metadata": {
    "collapsed": true
   },
   "outputs": [],
   "source": [
    "# BÔNUS: Escrever uma função que receba uma categoria e compute sua média de pontuação IMDB\n",
    "#(Hint: funções já definidas podem ser reutilizadas)\n",
    "def médiaDeCategoria(categoria):\n",
    "    filmesDaCategoria = getFilmeDeCategoria(categoria)\n",
    "    return médiaDeLista(filmesDaCategoria)"
   ]
  },
  {
   "cell_type": "code",
   "execution_count": 16,
   "metadata": {},
   "outputs": [
    {
     "data": {
      "text/plain": [
       "6.3"
      ]
     },
     "execution_count": 16,
     "metadata": {},
     "output_type": "execute_result"
    }
   ],
   "source": [
    "médiaDeCategoria('Action')"
   ]
  },
  {
   "cell_type": "code",
   "execution_count": 17,
   "metadata": {},
   "outputs": [
    {
     "data": {
      "text/plain": [
       "6.44"
      ]
     },
     "execution_count": 17,
     "metadata": {},
     "output_type": "execute_result"
    }
   ],
   "source": [
    "médiaDeCategoria('Romance')"
   ]
  }
 ],
 "metadata": {
  "kernelspec": {
   "display_name": "Python 3",
   "language": "python",
   "name": "python3"
  },
  "language_info": {
   "codemirror_mode": {
    "name": "ipython",
    "version": 3
   },
   "file_extension": ".py",
   "mimetype": "text/x-python",
   "name": "python",
   "nbconvert_exporter": "python",
   "pygments_lexer": "ipython3",
   "version": "3.6.1"
  }
 },
 "nbformat": 4,
 "nbformat_minor": 1
}
